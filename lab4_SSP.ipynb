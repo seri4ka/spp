{
 "cells": [
  {
   "cell_type": "code",
   "execution_count": 17,
   "metadata": {
    "id": "l82JFshRl0J8"
   },
   "outputs": [],
   "source": [
    "import numpy as np\n",
    "from matplotlib import pyplot as plt\n",
    "from scipy.optimize import minimize\n",
    "from numba import jit, njit\n",
    "from scipy.stats import  t\n",
    "\n",
    "import warnings\n",
    "warnings.filterwarnings(\"ignore\")"
   ]
  },
  {
   "cell_type": "code",
   "execution_count": 2,
   "metadata": {
    "id": "9i0pEU8Ql0J_"
   },
   "outputs": [],
   "source": [
    "class StochasticProcess:\n",
    "    def __init__(self, params, T, Nx, Nt, init_state = None):\n",
    "        self.params = params\n",
    "        self.T = T\n",
    "        self.Nx = Nx # Number of trajectories\n",
    "        self.Nt = Nt # Number of discretization steps\n",
    "        self.init_state = init_state\n",
    "\n",
    "    # Wiener Process by default\n",
    "    # use @staticmethod for numba compatibility with @njit\n",
    "    @staticmethod\n",
    "    @njit\n",
    "    def bxt(x, t, params):\n",
    "        return 0\n",
    "\n",
    "    @staticmethod\n",
    "    @njit\n",
    "    def sigmaxt(x, t, params):\n",
    "        return 1\n",
    "\n",
    "    @staticmethod\n",
    "    @njit\n",
    "    def bxt_x(x, t, params):\n",
    "        return 0\n",
    "\n",
    "    @staticmethod\n",
    "    @njit\n",
    "    def bxt_xx(x, t, params):\n",
    "        return 0\n",
    "\n",
    "    @staticmethod\n",
    "    @njit\n",
    "    def sigmaxt_x(x, t, params):\n",
    "        return 0\n",
    "\n",
    "    @staticmethod\n",
    "    @njit\n",
    "    def sigmaxt_xx(x, t, params):\n",
    "        return 0\n",
    "\n",
    "    @staticmethod\n",
    "    @njit\n",
    "    def bxt_t(x, t, params):\n",
    "        return 0\n",
    "\n",
    "    def DefaultInitState(self):\n",
    "        return np.zeros(self.Nx)\n",
    "\n",
    "    def EulerSolution(self, dwt = None):\n",
    "        dt = self.T / self.Nt\n",
    "        t_data = np.linspace(0, self.T, self.Nt + 1)\n",
    "        x_data = np.zeros((self.Nt + 1, self.Nx))\n",
    "\n",
    "        if dwt is None:\n",
    "            dwt = np.random.normal(0, 1, size = (self.Nt, self.Nx)) * np.sqrt(dt)\n",
    "\n",
    "        if self.init_state is None:\n",
    "            x_data[0] = self.DefaultInitState()\n",
    "        else:\n",
    "            x_data[0] = self.init_state\n",
    "\n",
    "        for i in range(1, self.Nt + 1):\n",
    "            x_data[i] = x_data[i - 1] + self.bxt(x_data[i - 1], t_data[i - 1], self.params) * dt +\\\n",
    "                        self.sigmaxt(x_data[i - 1], t_data[i - 1], self.params) * dwt[i - 1]\n",
    "        return t_data, x_data\n",
    "\n",
    "    @staticmethod\n",
    "    @njit\n",
    "    def EulerDensity(x, t, x0, t0, params, bxt, bxt_x, bxt_xx, sigmaxt, sigmaxt_x, sigmaxt_xx, bxt_t):\n",
    "        xs = x0 + bxt(x0, t0, params) * (t - t0)\n",
    "        sigma2 = sigmaxt(x0, t0, params)**2 * (t - t0)\n",
    "\n",
    "        return -1/2 * np.log(2 * np.pi * sigma2) - (x - xs)**2 / (2 * sigma2)\n",
    "\n",
    "    @staticmethod\n",
    "    @njit\n",
    "    def OzakiDensity(x, t, x0, t0, params, bxt, bxt_x, bxt_xx, sigmaxt, sigmaxt_x, sigmaxt_xx, bxt_t):\n",
    "        K = 1 / (t - t0) * np.log(1 + bxt(x0, t0, params) / (x0 * bxt_x(x0, t0, params)) * (np.exp(bxt_x(x0, t0, params) * (t - t0)) - 1))\n",
    "        E = x0 + bxt(x0, t0, params) / bxt_x(x0, t0, params) * (np.exp(bxt_x(x0, t0, params) * (t - t0)) - 1)\n",
    "        V = sigmaxt(x0, t0, params)**2 / (2 * K) * (np.exp(2 * K * (t - t0)) - 1)\n",
    "\n",
    "        xs = E\n",
    "        sigma2 = V\n",
    "\n",
    "        return -1/2 * np.log(2 * np.pi * sigma2) - (x - xs)**2 / (2 * sigma2)\n",
    "\n",
    "    @staticmethod\n",
    "    @njit\n",
    "    def ShojiOzakiDensity(x, t, x0, t0, params, bxt, bxt_x, bxt_xx, sigmaxt, sigmaxt_x, sigmaxt_xx, bxt_t):\n",
    "        L = bxt_x(x0, t0, params)\n",
    "\n",
    "        #safe division\n",
    "        if L == 0:\n",
    "            L = L + 0.001\n",
    "\n",
    "        M = sigmaxt(x0, t0, params)**2 / 2 * bxt_xx(x0, t0, params) + bxt_t(x0, t0, params)\n",
    "\n",
    "        A = 1 + bxt(x0, t0, params) / (x0 * L) * (np.exp(L * (t - t0)) - 1) + M / (x0 * L**2) * \\\n",
    "            (np.exp(L * (t - t0)) - 1 - L * (t - t0))\n",
    "        B = sigmaxt(x0, t0, params)**2 * 1/(2 * L) * (np.exp(2 * L * (t - t0)) - 1)\n",
    "\n",
    "        xs = A * x0\n",
    "        sigma2 = B\n",
    "\n",
    "        return -1/2 * np.log(2 * np.pi * sigma2) - (x - xs)**2 / (2 * sigma2)\n",
    "\n",
    "    @staticmethod\n",
    "    @njit\n",
    "    def KesslerDensity(x, t, x0, t0, params, bxt, bxt_x, bxt_xx, sigmaxt, sigmaxt_x, sigmaxt_xx, bxt_t):\n",
    "        E = x0 + bxt(x0, t0, params) * (t - t0) + (bxt(x0, t0, params) * bxt_x(x0, t0, params) + 1/2 * \\\n",
    "            sigmaxt(x0, t0, params)**2 * bxt_xx(x0, t0, params)) * 1/2 * (t - t0)**2\n",
    "        V = x0**2 + (2 * bxt(x0, t0, params) * x0 + sigmaxt(x0, t0, params)**2 ) * (t - t0)\\\n",
    "            + (2 * bxt(x0, t0, params) * (bxt_x(x0, t0, params) * x0 + bxt(x0, t0, params) + \\\n",
    "                sigmaxt(x0, t0, params) * sigmaxt_x(x0, t0, params))\\\n",
    "            + sigmaxt(x0, t0, params)**2 * (bxt_xx(x0, t0, params) * x0 + 2 * bxt_x(x0, t0, params) +\\\n",
    "                sigmaxt_x(x0, t0, params)**2 + sigmaxt(x0, t0, params) * sigmaxt_xx(x0, t0, params))) * (t - t0)**2 / 2 - E**2\n",
    "\n",
    "        xs = E\n",
    "\n",
    "        #safe division\n",
    "        if V == 0:\n",
    "            V = V + 0.001\n",
    "\n",
    "        sigma2 = V\n",
    "\n",
    "        return -1/2 * np.log(2 * np.pi * sigma2) - (x - xs)**2 / (2 * sigma2)\n",
    "\n",
    "    @staticmethod\n",
    "    @njit\n",
    "    def MLogLik(params, t_data, x_data, density, bxt, bxt_x, bxt_xx, sigmaxt, sigmaxt_x, sigmaxt_xx, bxt_t):\n",
    "        Nt = len(x_data)\n",
    "        Nx = len(x_data[0])\n",
    "        log_data = np.zeros(Nx)\n",
    "        for k in range(0, Nx):\n",
    "            m_log_lik = 0\n",
    "            for j in range(1, Nt):\n",
    "                m_log_lik += density(x_data[j][k], t_data[j], x_data[j - 1][k], t_data[j - 1], params,\n",
    "                                     bxt, bxt_x, bxt_xx, sigmaxt, sigmaxt_x, sigmaxt_xx, bxt_t)\n",
    "            log_data[k] = m_log_lik\n",
    "\n",
    "        res = -np.mean(log_data)\n",
    "        return res\n",
    "\n",
    "    def EulerEstimation(self, t_data, x_data):\n",
    "        x0 = np.ones(len(self.params))\n",
    "        accuracy = 1e-8\n",
    "\n",
    "        min_result = minimize(self.MLogLik,\n",
    "                              x0 = x0,\n",
    "                              args=(t_data, x_data, self.EulerDensity,\n",
    "                              self.bxt, self.bxt_x, self.bxt_xx, self.sigmaxt, self.sigmaxt_x, self.sigmaxt_xx,\n",
    "                              self.bxt_t),\n",
    "                              method = 'L-BFGS-B',\n",
    "                              options={'ftol': accuracy, 'eps': accuracy})\n",
    "        return min_result\n",
    "\n",
    "    def OzakiEstimation(self, t_data, x_data):\n",
    "        x0 = np.ones(len(self.params))\n",
    "        accuracy = 1e-8\n",
    "\n",
    "        min_result = minimize(self.MLogLik,\n",
    "                              x0 = x0,\n",
    "                              args=(t_data, x_data, self.OzakiDensity,\n",
    "                              self.bxt, self.bxt_x, self.bxt_xx, self.sigmaxt, self.sigmaxt_x, self.sigmaxt_xx,\n",
    "                              self.bxt_t),\n",
    "                              method = 'L-BFGS-B',\n",
    "                              options={'ftol': accuracy, 'eps': accuracy})\n",
    "        return min_result\n",
    "\n",
    "    def ShojiOzakiEstimation(self, t_data, x_data):\n",
    "        x0 = np.ones(len(self.params))\n",
    "        accuracy = 1e-8\n",
    "\n",
    "        min_result = minimize(self.MLogLik,\n",
    "                              x0 = x0,\n",
    "                              args=(t_data, x_data, self.ShojiOzakiDensity,\n",
    "                              self.bxt, self.bxt_x, self.bxt_xx, self.sigmaxt, self.sigmaxt_x, self.sigmaxt_xx,\n",
    "                              self.bxt_t),\n",
    "                              method = 'L-BFGS-B',\n",
    "                              options={'ftol': accuracy, 'eps': accuracy})\n",
    "        return min_result\n",
    "\n",
    "    def KesslerEstimation(self, t_data, x_data):\n",
    "        x0 = np.ones(len(self.params))\n",
    "        accuracy = 1e-8\n",
    "\n",
    "        min_result = minimize(self.MLogLik,\n",
    "                              x0 = x0,\n",
    "                              args=(t_data, x_data, self.KesslerDensity,\n",
    "                              self.bxt, self.bxt_x, self.bxt_xx, self.sigmaxt, self.sigmaxt_x, self.sigmaxt_xx,\n",
    "                              self.bxt_t),\n",
    "                              method = 'L-BFGS-B',\n",
    "                              options={'ftol': accuracy, 'eps': accuracy})\n",
    "        return min_result\n",
    "\n",
    "\n",
    "class OUprocess(StochasticProcess):\n",
    "    def __init__(self, params, T, Nx, Nt, init_state = None):\n",
    "        super().__init__(params, T, Nx, Nt, init_state)\n",
    "\n",
    "    # params = [theta, mu, sigma]\n",
    "\n",
    "    @staticmethod\n",
    "    @njit\n",
    "    def bxt(x, t, params):\n",
    "        return params[0] * (params[1] - x)\n",
    "\n",
    "    @staticmethod\n",
    "    @njit\n",
    "    def sigmaxt(x, t, params):\n",
    "        return params[2]\n",
    "\n",
    "    @staticmethod\n",
    "    @njit\n",
    "    def bxt_x(x, t, params):\n",
    "        return -params[0]\n",
    "\n",
    "    def DefaultInitState(self):\n",
    "        return self.params[1] * np.ones(self.Nx)\n",
    "\n",
    "class CKLSprocess(StochasticProcess):\n",
    "    def __init__(self, params, T, Nx, Nt, init_state = None):\n",
    "        super().__init__(params, T, Nx, Nt, init_state)\n",
    "\n",
    "    # params = [theta1, theta2, theta3]\n",
    "    @staticmethod\n",
    "    @njit\n",
    "    def bxt(x, t, params):\n",
    "        return params[0] + params[1] * x\n",
    "\n",
    "    @staticmethod\n",
    "    @njit\n",
    "    def sigmaxt(x, t, params):\n",
    "        return params[2] * x**params[3]\n",
    "\n",
    "    @staticmethod\n",
    "    @njit\n",
    "    def bxt_x(x, t, params):\n",
    "        return params[1]\n",
    "\n",
    "    @staticmethod\n",
    "    @njit\n",
    "    def sigmaxt_x(x, t, params):\n",
    "        return params[2] * params[3] * x**(params[3] - 1)\n",
    "\n",
    "    @staticmethod\n",
    "    @njit\n",
    "    def sigmaxt_xx(x, t, params):\n",
    "        return params[2] * params[3] * (params[3] - 1) * x**(params[3] - 2)\n",
    "\n",
    "    def DefaultInitState(self):\n",
    "        return self.params[0] / self.params[1] * np.ones(self.Nx)\n",
    "\n",
    "class Task5process(StochasticProcess):\n",
    "    def __init__(self, params, T, Nx, Nt, init_state = None):\n",
    "        super().__init__(params, T, Nx, Nt, init_state)\n",
    "\n",
    "    # params = [theta1, theta2]\n",
    "    @staticmethod\n",
    "    @njit\n",
    "    def bxt(x, t, params):\n",
    "        return params[0] * t * x\n",
    "\n",
    "    @staticmethod\n",
    "    @njit\n",
    "    def sigmaxt(x, t, params):\n",
    "        return params[1] * x\n",
    "\n",
    "    @staticmethod\n",
    "    @njit\n",
    "    def bxt_x(x, t, params):\n",
    "        return params[0] * t\n",
    "\n",
    "    @staticmethod\n",
    "    @njit\n",
    "    def sigmaxt_x(x, t, params):\n",
    "        return params[1]\n",
    "\n",
    "    @staticmethod\n",
    "    @njit\n",
    "    def bxt_t(x, t, params):\n",
    "        return params[0] * x\n",
    "\n",
    "    def DefaultInitState(self):\n",
    "        return self.params[0] / self.params[1] * np.ones(self.Nx)\n",
    "\n",
    "class HullWhiteprocess(StochasticProcess):\n",
    "    def __init__(self, params, T, Nx, Nt, init_state = None):\n",
    "        super().__init__(params, T, Nx, Nt, init_state)\n",
    "\n",
    "    # params = [theta1, theta2, theta3]\n",
    "    @staticmethod\n",
    "    @njit\n",
    "    def bxt(x, t, params):\n",
    "        return params[0] * t * (params[1] * np.sqrt(t) - x)\n",
    "\n",
    "    @staticmethod\n",
    "    @njit\n",
    "    def sigmaxt(x, t, params):\n",
    "        return params[2] * t\n",
    "\n",
    "    @staticmethod\n",
    "    @njit\n",
    "    def bxt_x(x, t, params):\n",
    "        return -params[0] * t\n",
    "\n",
    "    @staticmethod\n",
    "    @njit\n",
    "    def bxt_t(x, t, params):\n",
    "        return params[0] * params[1] * 3/2 * np.sqrt(t)\n",
    "\n",
    "    def DefaultInitState(self):\n",
    "        return self.params[1] * np.ones(self.Nx)"
   ]
  },
  {
   "cell_type": "markdown",
   "metadata": {
    "id": "7ZI2_4Tzl0KA"
   },
   "source": [
    "Task 1. Evaluate the conditional density of the Ornstein-Uhlenbeck process\n",
    "$$dX_t = (3-X_t)dt+2dW_t, \\quad X_0=1, \\quad %\\theta=(1, 3, 2), \\quad\n",
    "N=100000,\n",
    "\\quad \\Delta=1$$ and calculate the\n",
    "maximum likelihood estimation.  "
   ]
  },
  {
   "cell_type": "code",
   "execution_count": 3,
   "metadata": {
    "id": "VR1fEqA9l0KB"
   },
   "outputs": [],
   "source": [
    "Nx = 100000\n",
    "Nt = 300\n",
    "\n",
    "T = 1\n",
    "\n",
    "params_OU = np.array([3, 1, 2])\n",
    "\n",
    "x0 = 1\n",
    "init_state = x0 * np.ones(Nx)\n",
    "\n",
    "OUp = OUprocess(params_OU, T, Nx, Nt, init_state)\n",
    "\n",
    "t_data, x_data_OU = OUp.EulerSolution()"
   ]
  },
  {
   "cell_type": "code",
   "execution_count": 4,
   "metadata": {
    "colab": {
     "base_uri": "https://localhost:8080/"
    },
    "id": "IQF701lNl0KB",
    "outputId": "7210dcfb-addf-42bc-c34f-b687247c305d"
   },
   "outputs": [
    {
     "data": {
      "text/plain": [
       "  message: CONVERGENCE: REL_REDUCTION_OF_F_<=_FACTR*EPSMCH\n",
       "  success: True\n",
       "   status: 0\n",
       "      fun: -221.89287541295258\n",
       "        x: [ 3.013e+00  9.976e-01  2.000e+00]\n",
       "      nit: 16\n",
       "      jac: [ 4.547e-05 -4.803e-04  1.495e-03]\n",
       "     nfev: 72\n",
       "     njev: 18\n",
       " hess_inv: <3x3 LbfgsInvHessProduct with dtype=float64>"
      ]
     },
     "execution_count": 4,
     "metadata": {},
     "output_type": "execute_result"
    }
   ],
   "source": [
    "OUp.EulerEstimation(t_data, x_data_OU)"
   ]
  },
  {
   "cell_type": "code",
   "execution_count": 5,
   "metadata": {
    "colab": {
     "base_uri": "https://localhost:8080/"
    },
    "id": "YAxgB8Y6k7MC",
    "outputId": "cc53f0c1-6485-4df6-cbbf-42eb8153ae40"
   },
   "outputs": [
    {
     "data": {
      "text/plain": [
       "  message: CONVERGENCE: REL_REDUCTION_OF_F_<=_FACTR*EPSMCH\n",
       "  success: True\n",
       "   status: 0\n",
       "      fun: -221.89287547903024\n",
       "        x: [ 3.027e+00  9.977e-01  2.010e+00]\n",
       "      nit: 16\n",
       "      jac: [ 3.013e-04 -3.439e-04  1.592e-04]\n",
       "     nfev: 72\n",
       "     njev: 18\n",
       " hess_inv: <3x3 LbfgsInvHessProduct with dtype=float64>"
      ]
     },
     "execution_count": 5,
     "metadata": {},
     "output_type": "execute_result"
    }
   ],
   "source": [
    "OUp.ShojiOzakiEstimation(t_data, x_data_OU)"
   ]
  },
  {
   "cell_type": "code",
   "execution_count": 6,
   "metadata": {
    "colab": {
     "base_uri": "https://localhost:8080/"
    },
    "id": "Ywod-4uYoHJP",
    "outputId": "b325eb64-3c53-4a36-ecb7-786040bbebb9"
   },
   "outputs": [
    {
     "data": {
      "text/plain": [
       "  message: CONVERGENCE: REL_REDUCTION_OF_F_<=_FACTR*EPSMCH\n",
       "  success: True\n",
       "   status: 0\n",
       "      fun: -221.8928746552423\n",
       "        x: [ 3.026e+00  9.977e-01  2.010e+00]\n",
       "      nit: 15\n",
       "      jac: [ 4.547e-05 -4.832e-05 -1.876e-03]\n",
       "     nfev: 108\n",
       "     njev: 27\n",
       " hess_inv: <3x3 LbfgsInvHessProduct with dtype=float64>"
      ]
     },
     "execution_count": 6,
     "metadata": {},
     "output_type": "execute_result"
    }
   ],
   "source": [
    "OUp.KesslerEstimation(t_data, x_data_OU)"
   ]
  },
  {
   "cell_type": "markdown",
   "metadata": {
    "id": "vTtFMxh2opn9"
   },
   "source": [
    "Task. Find the maximum likelihood estimators  numerically\n",
    " for Ornstein-Uhlenbeck process\n",
    " $$\n",
    " dX_t = -\\theta_2X_tdt + \\theta_3dW_t, \\quad \\theta=(0, 3, 2), \\quad\n",
    "N=1000, \\quad \\Delta=1\n",
    "$$\n",
    "and compare with explicit estimations\n",
    "\n",
    "$$\n",
    "\\hat{\\theta}_{2,n} = -\\frac{1}{\\Delta}\\log \\left(\\frac{\\sum_{i=1}^n X_{i-1}X_i} {\\sum_{i=1}^n X^2_{i-1}}\\right),\n",
    "$$\n",
    "$$\n",
    "\\hat{\\theta}_{3,n} = \\sqrt{\\frac{2\\hat{\\theta}_{2,n}}\n",
    "{n(1 - e^{-2\\Delta  \\hat{\\theta}_{2,n}})}\n",
    "\\sum_{i=1}^n (X_i- X_{i-1} e^{-\\Delta \\hat{\\theta}_{2, n}})^2}.\n",
    "$$"
   ]
  },
  {
   "cell_type": "code",
   "execution_count": 20,
   "metadata": {},
   "outputs": [
    {
     "name": "stdout",
     "output_type": "stream",
     "text": [
      "Численные MLE оценки: theta2 = 3.000, theta3 = 2.000\n",
      "Явные оценки: theta2 = 3.016, theta3 = 2.006\n",
      "\n",
      "Сравнение оценок:\n",
      "theta2 MLE: 3.000, theta2 Explicit: 3.016\n",
      "theta3 MLE: 2.000, theta3 Explicit: 2.006\n"
     ]
    }
   ],
   "source": [
    "# Параметры процесса Орнштейна-Уленбека\n",
    "theta_true = (0, 3, 2)  # theta = (theta_1, theta_2, theta_3)\n",
    "N = 10 ** 6             # Количество точек\n",
    "Delta = 1               # Шаг времени\n",
    "\n",
    "# Генерация данных для процесса Орнштейна-Уленбека\n",
    "np.random.seed(42)\n",
    "X = np.zeros(N)\n",
    "for i in range(1, N):\n",
    "    X[i] = X[i-1] * np.exp(-theta_true[1] * Delta) + theta_true[2] * np.sqrt((1 - np.exp(-2 * theta_true[1] * Delta)) / (2 * theta_true[1])) * np.random.normal()\n",
    "\n",
    "# Функция правдоподобия для численного нахождения MLE\n",
    "def neg_log_likelihood(log_params, X, Delta):\n",
    "    theta2, theta3 = np.exp(log_params)  # Преобразуем параметры из лог-пространства\n",
    "    n = len(X) - 1\n",
    "    \n",
    "    # Ожидание и дисперсия переходного распределения\n",
    "    expected_X = X[:-1] * np.exp(-theta2 * Delta)\n",
    "    variance = (theta3**2 / (2 * theta2)) * (1 - np.exp(-2 * theta2 * Delta))\n",
    "    \n",
    "    # Отрицательная логарифмическая функция правдоподобия\n",
    "    log_likelihood = -np.sum(-0.5 * np.log(2 * np.pi * variance) - ((X[1:] - expected_X)**2) / (2 * variance))\n",
    "    return -log_likelihood\n",
    "\n",
    "# Численное нахождение MLE для theta2 и theta3 в лог-пространстве\n",
    "initial_guess = np.log([3, 2])  # Начальные приближения в лог-пространстве\n",
    "mle_result = minimize(neg_log_likelihood, initial_guess, args=(X, Delta), bounds=[(None, None), (None, None)])\n",
    "theta2_mle, theta3_mle = np.exp(mle_result.x)  # Возвращаемся из лог-пространства\n",
    "print(f\"Численные MLE оценки: theta2 = {theta2_mle:.3f}, theta3 = {theta3_mle:.3f}\")\n",
    "\n",
    "# Явные оценки\n",
    "sum_Xi_Xim1 = np.sum(X[:-1] * X[1:])\n",
    "sum_Xim1_sq = np.sum(X[:-1]**2)\n",
    "theta2_explicit = -np.log(sum_Xi_Xim1 / sum_Xim1_sq) / Delta\n",
    "\n",
    "# Вычисляем theta3, используя явную формулу\n",
    "n = len(X)\n",
    "residuals = X[1:] - X[:-1] * np.exp(-Delta * theta2_explicit)\n",
    "theta3_explicit = np.sqrt((2 * theta2_explicit / (n * (1 - np.exp(-2 * Delta * theta2_explicit)))) * np.sum(residuals**2))\n",
    "\n",
    "print(f\"Явные оценки: theta2 = {theta2_explicit:.3f}, theta3 = {theta3_explicit:.3f}\")\n",
    "\n",
    "# Сравнение MLE и явных оценок\n",
    "print(\"\\nСравнение оценок:\")\n",
    "print(f\"theta2 MLE: {theta2_mle:.3f}, theta2 Explicit: {theta2_explicit:.3f}\")\n",
    "print(f\"theta3 MLE: {theta3_mle:.3f}, theta3 Explicit: {theta3_explicit:.3f}\")"
   ]
  },
  {
   "cell_type": "markdown",
   "metadata": {
    "id": "YpdCzJFkl0KD"
   },
   "source": [
    "Task 3. Consider  the Chan-Karolyi-Longstaff-Sanders (CKLS) model\n",
    "$$\n",
    " dX_{t} = (\\theta_{1}+\\theta_{2} X_{t}) dt + \\theta_{3} X_{t}^{\\theta_{4}} dW_{t},\\qquad X_{0}=2\n",
    "$$\n",
    "with $\\theta_{1}=1$, $\\theta_{2}=2$, $\\theta_{3}=0.5$, $\\theta_{4}=0.3$.\n",
    "\n",
    "Use the Euler method and\n",
    "* generate the sample data $X_{t_i}$ with time step $\\Delta t =10^{-4}$,  \n",
    "* estimate drift and diffusion coefficients,\n",
    "* compute confidence intervals for all parameters in a fitted SDE.  \n"
   ]
  },
  {
   "cell_type": "code",
   "execution_count": 21,
   "metadata": {
    "id": "XR-WqbzKl0KE"
   },
   "outputs": [],
   "source": [
    "Nx = 1\n",
    "Nt = 10000\n",
    "\n",
    "T = 1\n",
    "\n",
    "params_CKLS = np.array([1, 2, 0.5, 0.3])\n",
    "\n",
    "x0 = 2\n",
    "init_state = x0 * np.ones(Nx)\n",
    "\n",
    "CKLSp = CKLSprocess(params_CKLS, T, Nx, Nt, init_state)\n",
    "\n",
    "t_data, x_data_CKLS = CKLSp.EulerSolution()"
   ]
  },
  {
   "cell_type": "code",
   "execution_count": 22,
   "metadata": {
    "colab": {
     "base_uri": "https://localhost:8080/",
     "height": 449
    },
    "id": "ntgWc4bfl0KE",
    "outputId": "b4370f66-8637-46dd-8169-ace02e2f93b5"
   },
   "outputs": [
    {
     "data": {
      "image/png": "[encoded data removed]",
      "text/plain": [
       "<Figure size 640x480 with 1 Axes>"
      ]
     },
     "metadata": {},
     "output_type": "display_data"
    }
   ],
   "source": [
    "plt.plot(t_data, x_data_CKLS[:,0], label = 'CKLS process')\n",
    "\n",
    "plt.legend(loc = 'best', fancybox = True, shadow = True)\n",
    "plt.xlabel(\"t\")\n",
    "plt.ylabel(\"x(t)\")\n",
    "plt.grid(True)\n",
    "plt.show()"
   ]
  },
  {
   "cell_type": "code",
   "execution_count": 23,
   "metadata": {
    "colab": {
     "base_uri": "https://localhost:8080/"
    },
    "id": "AlPjxY4Xl0KE",
    "outputId": "9c2afc60-f178-43ee-8fd3-af96c5bdf75b"
   },
   "outputs": [
    {
     "data": {
      "text/plain": [
       "  message: CONVERGENCE: REL_REDUCTION_OF_F_<=_FACTR*EPSMCH\n",
       "  success: True\n",
       "   status: 0\n",
       "      fun: -32667.60267461704\n",
       "        x: [ 1.110e+00  2.123e+00  5.103e-01  2.907e-01]\n",
       "      nit: 18\n",
       "      jac: [-1.191e+00  1.095e-01 -3.238e-02  2.474e-02]\n",
       "     nfev: 110\n",
       "     njev: 22\n",
       " hess_inv: <4x4 LbfgsInvHessProduct with dtype=float64>"
      ]
     },
     "execution_count": 23,
     "metadata": {},
     "output_type": "execute_result"
    }
   ],
   "source": [
    "CKLSp.EulerEstimation(t_data, x_data_CKLS)"
   ]
  },
  {
   "cell_type": "code",
   "execution_count": 24,
   "metadata": {
    "colab": {
     "base_uri": "https://localhost:8080/"
    },
    "id": "B8YDUmwXl0KE",
    "outputId": "96e7337a-4f7b-4f96-9856-ccfd13ef8632"
   },
   "outputs": [
    {
     "name": "stdout",
     "output_type": "stream",
     "text": [
      "theta0 = 1.077065753220165 +- 0.17206153835716004 with 95.0% prob\n",
      "theta1 = 1.9627229528579015 +- 0.04354715881078065 with 95.0% prob\n",
      "theta2 = 0.49978848630860107 +- 0.00290251791285851 with 95.0% prob\n",
      "theta3 = 0.3017706624710788 +- 0.0031584048441845366 with 95.0% prob\n"
     ]
    }
   ],
   "source": [
    "#Confidence intervals\n",
    "n = 50\n",
    "result = np.zeros((n, 4))\n",
    "for k in range(0, n):\n",
    "    t_data, x_data_CKLS = CKLSp.EulerSolution()\n",
    "    result[k] = CKLSp.EulerEstimation(t_data, x_data_CKLS).x\n",
    "\n",
    "\n",
    "alpha = 0.05\n",
    "q = t.ppf(1-alpha/2, n - 1)\n",
    "for i in range(0, 4):\n",
    "    m = np.mean(result[:,i])\n",
    "    v = np.std(result[:,i], ddof=1)\n",
    "    print(f\"theta{i} = {m} +- {v * q / np.sqrt(n)} with {100 - alpha * 100}% prob\")"
   ]
  },
  {
   "cell_type": "markdown",
   "metadata": {
    "id": "z350sXmPl0KE"
   },
   "source": [
    "Task 4. Consider the Vasicek model\n",
    "$$\n",
    "dX_{t} = \\theta_{1} (\\theta_{2}- X_{t}) dt + \\theta_{3} dW_{t},\\qquad X_{0}=5\n",
    "$$\n",
    "with $\\theta_{1}=3$, $\\theta_{2}=2$ and $\\theta_{3}=0.5$.\n",
    "\n",
    "Use the Ozaki method and\n",
    "*   generate the sample data $X_{t_i}$, time step $\\Delta t =10^{-2}$,\n",
    "*   estimate drift and diffusion coefficients,\n",
    "*   compute confidence intervals for all parameters in a fitted SDE."
   ]
  },
  {
   "cell_type": "code",
   "execution_count": 25,
   "metadata": {
    "id": "S67Z0D8el0KE"
   },
   "outputs": [],
   "source": [
    "Nx = 1\n",
    "Nt = 100\n",
    "\n",
    "T = 1\n",
    "\n",
    "params_OU = np.array([3, 2, 0.5])\n",
    "\n",
    "x0 = 5\n",
    "init_state = x0 * np.ones(Nx)\n",
    "\n",
    "OUp = OUprocess(params_OU, T, Nx, Nt, init_state)\n",
    "\n",
    "t_data, x_data_OU = OUp.EulerSolution()"
   ]
  },
  {
   "cell_type": "code",
   "execution_count": 26,
   "metadata": {
    "colab": {
     "base_uri": "https://localhost:8080/"
    },
    "id": "Q1twW-N1l0KE",
    "outputId": "d2604a90-a819-4de3-8ebf-629dfb65c7fe"
   },
   "outputs": [
    {
     "data": {
      "text/plain": [
       "  message: CONVERGENCE: REL_REDUCTION_OF_F_<=_FACTR*EPSMCH\n",
       "  success: True\n",
       "   status: 0\n",
       "      fun: -163.28153395447106\n",
       "        x: [ 3.564e+00  2.069e+00  4.748e-01]\n",
       "      nit: 22\n",
       "      jac: [-1.137e-05  7.390e-05 -8.242e-05]\n",
       "     nfev: 120\n",
       "     njev: 30\n",
       " hess_inv: <3x3 LbfgsInvHessProduct with dtype=float64>"
      ]
     },
     "execution_count": 26,
     "metadata": {},
     "output_type": "execute_result"
    }
   ],
   "source": [
    "OUp.OzakiEstimation(t_data, x_data_OU)"
   ]
  },
  {
   "cell_type": "code",
   "execution_count": 27,
   "metadata": {
    "colab": {
     "base_uri": "https://localhost:8080/"
    },
    "id": "5_2Txb7Hl0KE",
    "outputId": "d0c6ae4d-3778-4772-da31-7e2f638f934e"
   },
   "outputs": [
    {
     "name": "stdout",
     "output_type": "stream",
     "text": [
      "theta0 = 3.228919405491875 +- 0.19419025842396742 with 95.0% prob\n",
      "theta1 = 2.042761643396121 +- 0.07938407574113324 with 95.0% prob\n",
      "theta2 = 0.32073952700923825 +- 0.10989018863360837 with 95.0% prob\n"
     ]
    }
   ],
   "source": [
    "#Confidence intervals\n",
    "n = 50\n",
    "result = np.zeros((n, 3))\n",
    "for k in range(0, n):\n",
    "    t_data, x_data_OU = OUp.EulerSolution()\n",
    "    result[k] = OUp.OzakiEstimation(t_data, x_data_OU).x\n",
    "\n",
    "\n",
    "alpha = 0.05\n",
    "q = t.ppf(1-alpha/2, n - 1)\n",
    "for i in range(0, 3):\n",
    "    m = np.mean(result[:,i])\n",
    "    v = np.std(result[:,i], ddof=1)\n",
    "    print(f\"theta{i} = {m} +- {v * q / np.sqrt(n)} with {100 - alpha * 100}% prob\")"
   ]
  },
  {
   "cell_type": "markdown",
   "metadata": {
    "id": "8-I7G75Fl0KE"
   },
   "source": [
    "Task 5. Consider the model\n",
    "$$\n",
    "  dX_{t} = a(t)X_{t} dt + \\theta_{2}X_{t} dW_{t},\\qquad X_{0}=10\n",
    "$$\n",
    "with $a(t) = \\theta_{1}t$, $\\theta_{1}=-2$, $\\theta_{2}=0.2$.\n",
    "\n",
    "Use the Shoji-Ozaki method and:\n",
    "* generate the sample data $X_{t_i}$ time step $\\Delta t =10^{-3}$,  \n",
    "* estimate drift and diffusion coefficients,\n",
    "* compute confidence intervals for all parameters in a fitted SDE."
   ]
  },
  {
   "cell_type": "code",
   "execution_count": 28,
   "metadata": {
    "id": "Ok7FIiVdl0KE"
   },
   "outputs": [],
   "source": [
    "Nx = 1\n",
    "Nt = 1000\n",
    "\n",
    "T = 1\n",
    "\n",
    "params_T5 = np.array([-2, 0.2])\n",
    "\n",
    "x0 = 5\n",
    "init_state = x0 * np.ones(Nx)\n",
    "\n",
    "T5p = Task5process(params_T5, T, Nx, Nt, init_state)\n",
    "\n",
    "t_data, x_data_T5 = T5p.EulerSolution()"
   ]
  },
  {
   "cell_type": "code",
   "execution_count": 29,
   "metadata": {
    "colab": {
     "base_uri": "https://localhost:8080/"
    },
    "id": "pRD3TJKumHBz",
    "outputId": "3b3012d1-8808-4f82-e7df-3a6ca17eea3f"
   },
   "outputs": [
    {
     "data": {
      "text/plain": [
       "  message: CONVERGENCE: REL_REDUCTION_OF_F_<=_FACTR*EPSMCH\n",
       "  success: True\n",
       "   status: 0\n",
       "      fun: -2664.290717579065\n",
       "        x: [-2.643e+00  1.984e-01]\n",
       "      nit: 14\n",
       "      jac: [ 4.907e-02  1.046e-03]\n",
       "     nfev: 129\n",
       "     njev: 43\n",
       " hess_inv: <2x2 LbfgsInvHessProduct with dtype=float64>"
      ]
     },
     "execution_count": 29,
     "metadata": {},
     "output_type": "execute_result"
    }
   ],
   "source": [
    "T5p.ShojiOzakiEstimation(t_data, x_data_T5)"
   ]
  },
  {
   "cell_type": "code",
   "execution_count": 30,
   "metadata": {
    "colab": {
     "base_uri": "https://localhost:8080/",
     "height": 449
    },
    "id": "RImgtCF_l0KF",
    "outputId": "47847ffb-8175-4d6d-bf99-eb2fe2ccc804"
   },
   "outputs": [
    {
     "data": {
      "image/png": "[encoded data removed]",
      "text/plain": [
       "<Figure size 640x480 with 1 Axes>"
      ]
     },
     "metadata": {},
     "output_type": "display_data"
    }
   ],
   "source": [
    "plt.plot(t_data, x_data_T5[:,0], label = 'Task 5 process')\n",
    "\n",
    "plt.legend(loc = 'best', fancybox = True, shadow = True)\n",
    "plt.xlabel(\"t\")\n",
    "plt.ylabel(\"x(t)\")\n",
    "plt.grid(True)\n",
    "plt.show()"
   ]
  },
  {
   "cell_type": "code",
   "execution_count": 31,
   "metadata": {
    "colab": {
     "base_uri": "https://localhost:8080/"
    },
    "id": "InRuiVhzl0KF",
    "outputId": "42039119-146b-4098-e16c-60a3612405d2"
   },
   "outputs": [
    {
     "name": "stdout",
     "output_type": "stream",
     "text": [
      "theta0 = -2.0350935936355374 +- 0.10484038542147221 with 95.0% prob\n",
      "theta1 = 0.1918824132273996 +- 0.016288549467665468 with 95.0% prob\n"
     ]
    }
   ],
   "source": [
    "#Confidence intervals\n",
    "n = 50\n",
    "result = np.zeros((n, 2))\n",
    "for k in range(0, n):\n",
    "    t_data, x_data_T5 = T5p.EulerSolution()\n",
    "    result[k] = T5p.ShojiOzakiEstimation(t_data, x_data_T5).x\n",
    "\n",
    "\n",
    "alpha = 0.05\n",
    "q = t.ppf(1-alpha/2, n - 1)\n",
    "for i in range(0, 2):\n",
    "    m = np.mean(result[:,i])\n",
    "    v = np.std(result[:,i], ddof=1)\n",
    "    print(f\"theta{i} = {m} +- {v * q / np.sqrt(n)} with {100 - alpha * 100}% prob\")"
   ]
  },
  {
   "cell_type": "markdown",
   "metadata": {
    "id": "zhSjEaUGl0KF"
   },
   "source": [
    "Task 6. Consider the Hull-White (extended Vasicek) model\n",
    "$$\n",
    "  dX_{t} = a(t)(b(t)-X_{t}) dt + \\sigma(t) dW_{t},\\qquad X_{0}=2\n",
    "$$\n",
    "with $a(t) = \\theta_{1}t$, $b(t)=\\theta_{2}\\sqrt{t}$, the volatility depends on time $\\sigma(t)=\\theta_{3}t$.\n",
    "\n",
    "Generate sample data of $X_t$ with time step $\\Delta t =10^{-3}$ and $\\theta_{1}=3$, $\\theta_{2}=1$ and $\\theta_{3}=0.3$, then\n",
    "use the Kessler method and:\n",
    "*   estimate drift and diffusion coefficients,\n",
    "*   compute confidence intervals for all parameters in a fitted SDE."
   ]
  },
  {
   "cell_type": "code",
   "execution_count": 32,
   "metadata": {
    "id": "D_AM54Stl0KF"
   },
   "outputs": [],
   "source": [
    "Nx = 1\n",
    "Nt = 100\n",
    "\n",
    "T = 1\n",
    "\n",
    "params_HW = np.array([3, 1, 0.3])\n",
    "\n",
    "x0 = 2\n",
    "init_state = x0 * np.ones(Nx)\n",
    "\n",
    "HWp = HullWhiteprocess(params_HW, T, Nx, Nt, init_state)\n",
    "\n",
    "t_data, x_data_HW = HWp.EulerSolution()"
   ]
  },
  {
   "cell_type": "code",
   "execution_count": 33,
   "metadata": {
    "colab": {
     "base_uri": "https://localhost:8080/",
     "height": 449
    },
    "id": "VrNcrc22l0KF",
    "outputId": "698e4729-612f-4124-a1d5-c0b075a4219c"
   },
   "outputs": [
    {
     "data": {
      "image/png": "[encoded data removed]",
      "text/plain": [
       "<Figure size 640x480 with 1 Axes>"
      ]
     },
     "metadata": {},
     "output_type": "display_data"
    }
   ],
   "source": [
    "plt.plot(t_data, x_data_HW[:,0], label = 'HW process')\n",
    "\n",
    "plt.legend(loc = 'best', fancybox = True, shadow = True)\n",
    "plt.xlabel(\"t\")\n",
    "plt.ylabel(\"x(t)\")\n",
    "plt.grid(True)\n",
    "plt.show()"
   ]
  },
  {
   "cell_type": "code",
   "execution_count": 34,
   "metadata": {
    "colab": {
     "base_uri": "https://localhost:8080/"
    },
    "id": "GLTStP4lluvK",
    "outputId": "ad0c3132-202c-441b-c9ef-23f840d2f824"
   },
   "outputs": [
    {
     "data": {
      "text/plain": [
       "  message: CONVERGENCE: REL_REDUCTION_OF_F_<=_FACTR*EPSMCH\n",
       "  success: True\n",
       "   status: 0\n",
       "      fun: -305.3124501065398\n",
       "        x: [ 3.443e+00  1.006e+00  3.032e-01]\n",
       "      nit: 15\n",
       "      jac: [ 2.212e-01  5.437e-01  6.888e-02]\n",
       "     nfev: 144\n",
       "     njev: 36\n",
       " hess_inv: <3x3 LbfgsInvHessProduct with dtype=float64>"
      ]
     },
     "execution_count": 34,
     "metadata": {},
     "output_type": "execute_result"
    }
   ],
   "source": [
    "HWp.KesslerEstimation(t_data, x_data_HW)"
   ]
  },
  {
   "cell_type": "markdown",
   "metadata": {
    "id": "z7C4jqsMMH7b"
   },
   "source": [
    "Task. Take a process from previous tasks and approximation method, find the solution, compute confidence intervals, and compare results with baseline.\n",
    "\n",
    "Plot the graph and table.\n",
    "\n",
    "Задания по вариантам\n",
    "1. Байков Илья Павлович OU + Kessler\n",
    "1. Гонгапшев Астемир Султанович CKLS + Shoji-Ozaki\n",
    "1. Кудинкина Екатерина Андреевна CKLS + Kessler\n",
    "1. Кулига Андрей Владимирович Vasicek + Euler\n",
    "1. Мартыненко Александр Станиславович Vasicek + Shoji-Ozaki\n",
    "1. Мироманов Даниил Борисович Vasicek + Kessler\n",
    "1. Паршаков Никита Сергеевич extended Vasicek + Euler\n",
    "1. Петренко Влада Витальевна extended Vasicek + Ozaki\n",
    "1. Тумачев Серафим Дмитриевич extended Vasicek + Shoji-Ozaki\n",
    "1. Хубиев Касымхан Юсуфович model 5 + Euler\n",
    "1. Ширяева Софья Игоревна model 5 + Ozaki\n",
    "1. Якунин Сергей Александрович model 5 + Kessler\n",
    "1. Трофимов Яков Георгиевич CKLS + Ozaki\n"
   ]
  },
  {
   "cell_type": "code",
   "execution_count": 46,
   "metadata": {
    "id": "sUUdacMnMsaD"
   },
   "outputs": [
    {
     "name": "stdout",
     "output_type": "stream",
     "text": [
      "Оценки параметров методом Кесслера: theta1 = -1.971, theta2 = 0.202\n",
      "\n",
      "Доверительные интервалы для параметров (95%):\n",
      "Параметр 1: (-65.37994810684064, 61.437540876622)\n",
      "Параметр 2: (0.131079942973457, 0.2728372835010543)\n"
     ]
    },
    {
     "data": {
      "image/png": "[encoded data removed]",
      "text/plain": [
       "<Figure size 1000x600 with 1 Axes>"
      ]
     },
     "metadata": {},
     "output_type": "display_data"
    },
    {
     "data": {
      "text/html": [
       "<div>\n",
       "<style scoped>\n",
       "    .dataframe tbody tr th:only-of-type {\n",
       "        vertical-align: middle;\n",
       "    }\n",
       "\n",
       "    .dataframe tbody tr th {\n",
       "        vertical-align: top;\n",
       "    }\n",
       "\n",
       "    .dataframe thead th {\n",
       "        text-align: right;\n",
       "    }\n",
       "</style>\n",
       "<table border=\"1\" class=\"dataframe\">\n",
       "  <thead>\n",
       "    <tr style=\"text-align: right;\">\n",
       "      <th></th>\n",
       "      <th>Параметр</th>\n",
       "      <th>Kessler Оценка</th>\n",
       "      <th>CI Lower (95%)</th>\n",
       "      <th>CI Upper (95%)</th>\n",
       "    </tr>\n",
       "  </thead>\n",
       "  <tbody>\n",
       "    <tr>\n",
       "      <th>0</th>\n",
       "      <td>theta_1</td>\n",
       "      <td>-1.971204</td>\n",
       "      <td>-65.379948</td>\n",
       "      <td>61.437541</td>\n",
       "    </tr>\n",
       "    <tr>\n",
       "      <th>1</th>\n",
       "      <td>theta_2</td>\n",
       "      <td>0.201959</td>\n",
       "      <td>0.131080</td>\n",
       "      <td>0.272837</td>\n",
       "    </tr>\n",
       "  </tbody>\n",
       "</table>\n",
       "</div>"
      ],
      "text/plain": [
       "  Параметр  Kessler Оценка  CI Lower (95%)  CI Upper (95%)\n",
       "0  theta_1       -1.971204      -65.379948       61.437541\n",
       "1  theta_2        0.201959        0.131080        0.272837"
      ]
     },
     "execution_count": 46,
     "metadata": {},
     "output_type": "execute_result"
    }
   ],
   "source": [
    "from scipy.optimize import minimize\n",
    "import pandas as pd\n",
    "\n",
    "class Model5Process:\n",
    "    def __init__(self, params, T, Nx, Nt, init_state=None):\n",
    "        self.params = params\n",
    "        self.T = T\n",
    "        self.Nx = Nx\n",
    "        self.Nt = Nt\n",
    "        self.init_state = init_state if init_state is not None else np.ones(Nx)\n",
    "\n",
    "    def drift(self, x, t):\n",
    "        theta1 = self.params[0]\n",
    "        return theta1 * t * x\n",
    "\n",
    "    def diffusion(self, x):\n",
    "        theta2 = self.params[1]\n",
    "        return theta2 * x\n",
    "\n",
    "    def drift_derivative_t(self, x, t):\n",
    "        return self.params[0] * x  # Производная дрейфа по времени\n",
    "\n",
    "    def generate_trajectory(self):\n",
    "        X = np.zeros((self.Nt, self.Nx))\n",
    "        X[0, :] = self.init_state\n",
    "        dt = self.T / self.Nt\n",
    "        for i in range(1, self.Nt):\n",
    "            t = i * dt\n",
    "            drift = self.drift(X[i-1, :], t) * dt\n",
    "            diffusion = self.diffusion(X[i-1, :]) * np.sqrt(dt) * np.random.normal(size=self.Nx)\n",
    "            X[i, :] = X[i-1, :] + drift + diffusion\n",
    "        return np.linspace(0, self.T, self.Nt), X\n",
    "\n",
    "    def KesslerDensity(self, x_next, x_current, t, params):\n",
    "        # Плотность вероятности для метода Кесслера\n",
    "        theta1, theta2 = params\n",
    "        dt = self.T / self.Nt\n",
    "        drift = theta1 * t * x_current * dt\n",
    "        diffusion = theta2 * x_current * np.sqrt(dt)\n",
    "        residual = (x_next - x_current - drift) / diffusion\n",
    "        return -0.5 * np.log(2 * np.pi * diffusion**2) - (residual**2) / 2\n",
    "\n",
    "    def MLogLik(self, params, t_data, x_data, density_func, bxt, bxt_x, bxt_xx, sigmaxt, sigmaxt_x, sigmaxt_xx, bxt_t):\n",
    "        # Вычисление отрицательной логарифмической функции правдоподобия по методу Кесслера\n",
    "        log_likelihood = 0\n",
    "        for i in range(1, len(t_data)):\n",
    "            log_likelihood += density_func(x_data[i], x_data[i-1], t_data[i-1], params)\n",
    "        return -log_likelihood\n",
    "\n",
    "    def KesslerEstimation(self, t_data, x_data):\n",
    "        # Метод Кесслера для оценки параметров\n",
    "        x0 = np.ones(len(self.params))\n",
    "        accuracy = 1e-8\n",
    "        min_result = minimize(\n",
    "            self.MLogLik,\n",
    "            x0=x0,\n",
    "            args=(t_data, x_data, self.KesslerDensity, self.drift, None, None, self.diffusion, None, None, self.drift_derivative_t),\n",
    "            method='L-BFGS-B',\n",
    "            options={'ftol': accuracy, 'eps': accuracy}\n",
    "        )\n",
    "        return min_result\n",
    "\n",
    "# Параметры модели\n",
    "params = [-2, 0.2]  # theta_1=-2, theta_2=0.2\n",
    "T = 1\n",
    "Nx = 10000\n",
    "Nt = 10000\n",
    "init_state = np.ones(Nx) * 10\n",
    "\n",
    "# Создаем процесс\n",
    "model5_process = Model5Process(params, T, Nx, Nt, init_state)\n",
    "\n",
    "# Генерируем данные и оцениваем параметры\n",
    "t_data, x_data = model5_process.generate_trajectory()\n",
    "result_kessler = model5_process.KesslerEstimation(t_data, x_data[:, 0])\n",
    "\n",
    "# Оцененные параметры\n",
    "theta_estimated = result_kessler.x\n",
    "print(f\"Оценки параметров методом Кесслера: theta1 = {theta_estimated[0]:.3f}, theta2 = {theta_estimated[1]:.3f}\")\n",
    "\n",
    "# Доверительные интервалы\n",
    "hessian_inv = result_kessler.hess_inv.todense() if hasattr(result_kessler.hess_inv, 'todense') else np.linalg.inv(result_kessler.hess_inv)\n",
    "std_errors = np.sqrt(np.diag(hessian_inv))\n",
    "confidence_intervals = [\n",
    "    (theta_estimated[i] - 1.96 * std_errors[i], theta_estimated[i] + 1.96 * std_errors[i])\n",
    "    for i in range(len(theta_estimated))\n",
    "]\n",
    "\n",
    "print(\"\\nДоверительные интервалы для параметров (95%):\")\n",
    "for i, ci in enumerate(confidence_intervals):\n",
    "    print(f\"Параметр {i+1}: {ci}\")\n",
    "\n",
    "# Построение графика траекторий\n",
    "plt.figure(figsize=(10, 6))\n",
    "plt.plot(t_data, x_data[:, :5])  # Показываем 5 траекторий\n",
    "plt.title('Траектории процесса Model 5')\n",
    "plt.xlabel('Время')\n",
    "plt.ylabel('X(t)')\n",
    "plt.grid(True)\n",
    "plt.show()\n",
    "\n",
    "# Создание таблицы результатов\n",
    "table_data = {\n",
    "    'Параметр': ['theta_1', 'theta_2'],\n",
    "    'Kessler Оценка': theta_estimated,\n",
    "    'CI Lower (95%)': [ci[0] for ci in confidence_intervals],\n",
    "    'CI Upper (95%)': [ci[1] for ci in confidence_intervals],\n",
    "}\n",
    "df_results = pd.DataFrame(table_data)\n",
    "df_results"
   ]
  }
 ],
 "metadata": {
  "colab": {
   "provenance": []
  },
  "kernelspec": {
   "display_name": "Python 3",
   "language": "python",
   "name": "python3"
  },
  "language_info": {
   "codemirror_mode": {
    "name": "ipython",
    "version": 3
   },
   "file_extension": ".py",
   "mimetype": "text/x-python",
   "name": "python",
   "nbconvert_exporter": "python",
   "pygments_lexer": "ipython3",
   "version": "3.11.0"
  }
 },
 "nbformat": 4,
 "nbformat_minor": 0
}
